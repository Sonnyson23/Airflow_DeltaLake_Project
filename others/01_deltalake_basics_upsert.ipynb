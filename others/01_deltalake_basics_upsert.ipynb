{
 "cells": [
  {
   "cell_type": "code",
   "execution_count": 1,
   "metadata": {},
   "outputs": [],
   "source": [
    "import pandas as pd"
   ]
  },
  {
   "cell_type": "code",
   "execution_count": 2,
   "metadata": {},
   "outputs": [],
   "source": [
    "from pyspark.sql import SparkSession, functions as F"
   ]
  },
  {
   "cell_type": "code",
   "execution_count": 3,
   "metadata": {},
   "outputs": [
    {
     "name": "stdout",
     "output_type": "stream",
     "text": [
      ":: loading settings :: url = jar:file:/opt/spark/jars/ivy-2.5.1.jar!/org/apache/ivy/core/settings/ivysettings.xml\n"
     ]
    },
    {
     "name": "stderr",
     "output_type": "stream",
     "text": [
      "Ivy Default Cache set to: /root/.ivy2/cache\n",
      "The jars for the packages stored in: /root/.ivy2/jars\n",
      "io.delta#delta-spark_2.12 added as a dependency\n",
      ":: resolving dependencies :: org.apache.spark#spark-submit-parent-85d77be7-3b96-4ae5-8a5b-c6e49749d947;1.0\n",
      "\tconfs: [default]\n",
      "\tfound io.delta#delta-spark_2.12;3.2.0 in central\n",
      "\tfound io.delta#delta-storage;3.2.0 in central\n",
      "\tfound org.antlr#antlr4-runtime;4.9.3 in central\n",
      ":: resolution report :: resolve 519ms :: artifacts dl 26ms\n",
      "\t:: modules in use:\n",
      "\tio.delta#delta-spark_2.12;3.2.0 from central in [default]\n",
      "\tio.delta#delta-storage;3.2.0 from central in [default]\n",
      "\torg.antlr#antlr4-runtime;4.9.3 from central in [default]\n",
      "\t---------------------------------------------------------------------\n",
      "\t|                  |            modules            ||   artifacts   |\n",
      "\t|       conf       | number| search|dwnlded|evicted|| number|dwnlded|\n",
      "\t---------------------------------------------------------------------\n",
      "\t|      default     |   3   |   0   |   0   |   0   ||   3   |   0   |\n",
      "\t---------------------------------------------------------------------\n",
      ":: retrieving :: org.apache.spark#spark-submit-parent-85d77be7-3b96-4ae5-8a5b-c6e49749d947\n",
      "\tconfs: [default]\n",
      "\t0 artifacts copied, 3 already retrieved (0kB/25ms)\n",
      "24/11/05 04:22:17 WARN NativeCodeLoader: Unable to load native-hadoop library for your platform... using builtin-java classes where applicable\n",
      "Setting default log level to \"WARN\".\n",
      "To adjust logging level use sc.setLogLevel(newLevel). For SparkR, use setLogLevel(newLevel).\n"
     ]
    }
   ],
   "source": [
    "spark = (SparkSession.builder\n",
    "         .appName(\"Delta Lake Basics\")\n",
    "         .master(\"local[2]\")\n",
    "         .config(\"spark.jars.packages\", \"io.delta:delta-spark_2.12:3.2.0\")\n",
    "         .config(\"spark.sql.extensions\", \"io.delta.sql.DeltaSparkSessionExtension\")\n",
    "         .config(\"spark.sql.catalog.spark_catalog\", \"org.apache.spark.sql.delta.catalog.DeltaCatalog\")\n",
    "         .getOrCreate())"
   ]
  },
  {
   "cell_type": "code",
   "execution_count": 4,
   "metadata": {},
   "outputs": [],
   "source": [
    "# We must import delta libs after SparkSession created\n",
    "\n",
    "from delta.tables import *"
   ]
  },
  {
   "cell_type": "markdown",
   "metadata": {},
   "source": [
    "## Create a spark dataframe"
   ]
  },
  {
   "cell_type": "code",
   "execution_count": 5,
   "metadata": {},
   "outputs": [],
   "source": [
    "customers = spark.createDataFrame([(1416, \"Tuncay Avcı\", \"İnsan Kaynakları\"), \n",
    "                                   (1417, \"İsmail İçtüzer\", \"Üretim Planlama\"),\n",
    "                                   (1506, \"Mustafa Aslan\", \"Halkla İlişkiler\"),\n",
    "                                   (1527, \"Buket Durmuş\", \"Pazarlama\"),\n",
    "                                   (1525, \"Saadet Yılmaz\", \"Teknik Koordinasyon\")],\n",
    "                                   [\"Id\",\"Name\",\"Branch\"])"
   ]
  },
  {
   "cell_type": "code",
   "execution_count": 6,
   "metadata": {
    "scrolled": true
   },
   "outputs": [
    {
     "name": "stderr",
     "output_type": "stream",
     "text": [
      "                                                                                \r"
     ]
    },
    {
     "name": "stdout",
     "output_type": "stream",
     "text": [
      "+----+--------------+-------------------+\n",
      "|  Id|          Name|             Branch|\n",
      "+----+--------------+-------------------+\n",
      "|1416|   Tuncay Avcı|   İnsan Kaynakları|\n",
      "|1417|İsmail İçtüzer|    Üretim Planlama|\n",
      "|1506| Mustafa Aslan|   Halkla İlişkiler|\n",
      "|1527|  Buket Durmuş|          Pazarlama|\n",
      "|1525| Saadet Yılmaz|Teknik Koordinasyon|\n",
      "+----+--------------+-------------------+\n",
      "\n"
     ]
    }
   ],
   "source": [
    "customers.show()"
   ]
  },
  {
   "cell_type": "markdown",
   "metadata": {},
   "source": [
    "## Write dataframe to deltalake"
   ]
  },
  {
   "cell_type": "code",
   "execution_count": 7,
   "metadata": {},
   "outputs": [],
   "source": [
    "! rm -rf /opt/examples/datasets/delta/ik_delta"
   ]
  },
  {
   "cell_type": "code",
   "execution_count": 8,
   "metadata": {},
   "outputs": [],
   "source": [
    "deltaPath = \"file:///opt/examples/datasets/delta/ik_delta\""
   ]
  },
  {
   "cell_type": "code",
   "execution_count": 9,
   "metadata": {},
   "outputs": [
    {
     "name": "stderr",
     "output_type": "stream",
     "text": [
      "                                                                                \r"
     ]
    }
   ],
   "source": [
    "customers.write \\\n",
    ".mode(\"overwrite\") \\\n",
    ".format(\"delta\") \\\n",
    ".save(deltaPath)"
   ]
  },
  {
   "cell_type": "code",
   "execution_count": 10,
   "metadata": {},
   "outputs": [
    {
     "name": "stdout",
     "output_type": "stream",
     "text": [
      "total 8\n",
      "drwxr-xr-x. 3 root root   93 Nov  5 04:23 _delta_log\n",
      "-rw-r--r--. 1 root root 1099 Nov  5 04:23 part-00000-46a67d72-745a-423b-b97d-0694c16cd15f-c000.snappy.parquet\n",
      "-rw-r--r--. 1 root root 1139 Nov  5 04:23 part-00001-41180f96-00c6-40e1-b1dc-8b6bf1a80b8e-c000.snappy.parquet\n"
     ]
    }
   ],
   "source": [
    "! ls -l /opt/examples/datasets/delta/ik_delta"
   ]
  },
  {
   "cell_type": "code",
   "execution_count": 12,
   "metadata": {},
   "outputs": [
    {
     "name": "stdout",
     "output_type": "stream",
     "text": [
      "total 8\n",
      "drwxr-xr-x. 3 root root   93 Nov  5 04:23 _delta_log\n",
      "-rw-r--r--. 1 root root 1099 Nov  5 04:23 part-00000-46a67d72-745a-423b-b97d-0694c16cd15f-c000.snappy.parquet\n",
      "-rw-r--r--. 1 root root 1139 Nov  5 04:23 part-00001-41180f96-00c6-40e1-b1dc-8b6bf1a80b8e-c000.snappy.parquet\n"
     ]
    }
   ],
   "source": [
    "! ls -l /opt/examples/datasets/delta/ik_delta"
   ]
  },
  {
   "cell_type": "code",
   "execution_count": 13,
   "metadata": {},
   "outputs": [
    {
     "name": "stdout",
     "output_type": "stream",
     "text": [
      "{\"commitInfo\":{\"timestamp\":1730780598222,\"operation\":\"WRITE\",\"operationParameters\":{\"mode\":\"Overwrite\",\"partitionBy\":\"[]\"},\"isolationLevel\":\"Serializable\",\"isBlindAppend\":false,\"operationMetrics\":{\"numFiles\":\"2\",\"numOutputRows\":\"5\",\"numOutputBytes\":\"2238\"},\"engineInfo\":\"Apache-Spark/3.5.3 Delta-Lake/3.2.0\",\"txnId\":\"08db501c-aa50-472a-854d-9bd4515fcdc9\"}}\n",
      "{\"metaData\":{\"id\":\"d0dea724-b437-457a-9296-c14729413873\",\"format\":{\"provider\":\"parquet\",\"options\":{}},\"schemaString\":\"{\\\"type\\\":\\\"struct\\\",\\\"fields\\\":[{\\\"name\\\":\\\"Id\\\",\\\"type\\\":\\\"long\\\",\\\"nullable\\\":true,\\\"metadata\\\":{}},{\\\"name\\\":\\\"Name\\\",\\\"type\\\":\\\"string\\\",\\\"nullable\\\":true,\\\"metadata\\\":{}},{\\\"name\\\":\\\"Branch\\\",\\\"type\\\":\\\"string\\\",\\\"nullable\\\":true,\\\"metadata\\\":{}}]}\",\"partitionColumns\":[],\"configuration\":{},\"createdTime\":1730780590331}}\n",
      "{\"protocol\":{\"minReaderVersion\":1,\"minWriterVersion\":2}}\n",
      "{\"add\":{\"path\":\"part-00000-46a67d72-745a-423b-b97d-0694c16cd15f-c000.snappy.parquet\",\"partitionValues\":{},\"size\":1099,\"modificationTime\":1730780593648,\"dataChange\":true,\"stats\":\"{\\\"numRecords\\\":2,\\\"minValues\\\":{\\\"Id\\\":1416,\\\"Name\\\":\\\"Tuncay Avcı\\\",\\\"Branch\\\":\\\"Üretim Planlama\\\"},\\\"maxValues\\\":{\\\"Id\\\":1417,\\\"Name\\\":\\\"İsmail İçtüzer\\\",\\\"Branch\\\":\\\"İnsan Kaynakları\\\"},\\\"nullCount\\\":{\\\"Id\\\":0,\\\"Name\\\":0,\\\"Branch\\\":0}}\"}}\n",
      "{\"add\":{\"path\":\"part-00001-41180f96-00c6-40e1-b1dc-8b6bf1a80b8e-c000.snappy.parquet\",\"partitionValues\":{},\"size\":1139,\"modificationTime\":1730780593648,\"dataChange\":true,\"stats\":\"{\\\"numRecords\\\":3,\\\"minValues\\\":{\\\"Id\\\":1506,\\\"Name\\\":\\\"Buket Durmuş\\\",\\\"Branch\\\":\\\"Halkla İlişkiler\\\"},\\\"maxValues\\\":{\\\"Id\\\":1527,\\\"Name\\\":\\\"Saadet Yılmaz\\\",\\\"Branch\\\":\\\"Teknik Koordinasyon\\\"},\\\"nullCount\\\":{\\\"Id\\\":0,\\\"Name\\\":0,\\\"Branch\\\":0}}\"}}\n"
     ]
    }
   ],
   "source": [
    "! cat  /opt/examples/datasets/delta/ik_delta/_delta_log/00000000000000000000.json"
   ]
  },
  {
   "cell_type": "markdown",
   "metadata": {},
   "source": [
    "## Read From Deltalake as DeltaTable"
   ]
  },
  {
   "cell_type": "code",
   "execution_count": 14,
   "metadata": {},
   "outputs": [],
   "source": [
    "customers_delta = DeltaTable.forPath(spark, deltaPath)"
   ]
  },
  {
   "cell_type": "code",
   "execution_count": 15,
   "metadata": {},
   "outputs": [
    {
     "data": {
      "text/plain": [
       "delta.tables.DeltaTable"
      ]
     },
     "execution_count": 15,
     "metadata": {},
     "output_type": "execute_result"
    }
   ],
   "source": [
    "type(customers_delta)"
   ]
  },
  {
   "cell_type": "code",
   "execution_count": 16,
   "metadata": {},
   "outputs": [
    {
     "name": "stderr",
     "output_type": "stream",
     "text": [
      "24/11/05 04:23:58 WARN SparkStringUtils: Truncated the string representation of a plan since it was too large. This behavior can be adjusted by setting 'spark.sql.debug.maxToStringFields'.\n",
      "                                                                                \r"
     ]
    },
    {
     "name": "stdout",
     "output_type": "stream",
     "text": [
      "+----+--------------+-------------------+\n",
      "|  Id|          Name|             Branch|\n",
      "+----+--------------+-------------------+\n",
      "|1506| Mustafa Aslan|   Halkla İlişkiler|\n",
      "|1527|  Buket Durmuş|          Pazarlama|\n",
      "|1525| Saadet Yılmaz|Teknik Koordinasyon|\n",
      "|1416|   Tuncay Avcı|   İnsan Kaynakları|\n",
      "|1417|İsmail İçtüzer|    Üretim Planlama|\n",
      "+----+--------------+-------------------+\n",
      "\n"
     ]
    }
   ],
   "source": [
    "customers_delta.toDF().show()"
   ]
  },
  {
   "cell_type": "code",
   "execution_count": 17,
   "metadata": {},
   "outputs": [
    {
     "name": "stdout",
     "output_type": "stream",
     "text": [
      "total 4\n",
      "-rw-r--r--. 1 root root 1717 Nov  5 04:23 00000000000000000000.json\n",
      "drwxr-xr-x. 2 root root    6 Nov  5 04:23 _commits\n"
     ]
    }
   ],
   "source": [
    "! ls -l /opt/examples/datasets/delta/ik_delta/_delta_log"
   ]
  },
  {
   "cell_type": "markdown",
   "metadata": {},
   "source": [
    "## New persons"
   ]
  },
  {
   "cell_type": "markdown",
   "metadata": {},
   "source": [
    "                                    ([(1416, \"Tuncay Avcı\", \"İnsan Kaynakları\"), u\n",
    "                                   (1417, \"İsmail İçtüzer\", \"Üretim Planlama\"), u\n",
    "                                   (1506, \"Mustafa Aslan\", \"Halkla İlişkiler\"),\n",
    "                                   (1527, \"Buket Durmuş\", \"Pazarlama\"),\n",
    "                                   (1525, \"Saadet Yılmaz\", \"Teknik Koordinasyon\")], u\n",
    "                                   [\"Id\",\"Name\",\"Branch\"])"
   ]
  },
  {
   "cell_type": "code",
   "execution_count": 19,
   "metadata": {},
   "outputs": [],
   "source": [
    "customers_new = spark.createDataFrame([(1416, \"Tuncay Avcı\", \"Genel Koordinasyon\"), \n",
    "                                   (1417, \"İsmail İçtüzer\", \"Genel Koordinasyon\"),\n",
    "                                   (1508, \"Mustafa Bankur\", \"Üretim\"),\n",
    "                                   (1522, \"Meliha Kaya\", \"Pazarlama\"),\n",
    "                                   (1525, \"Saadet Yılmaz Kaya\", \"Teknik Koordinasyon\")],\n",
    "                                   [\"Id\",\"Name\",\"Branch\"])"
   ]
  },
  {
   "cell_type": "code",
   "execution_count": 20,
   "metadata": {},
   "outputs": [
    {
     "name": "stderr",
     "output_type": "stream",
     "text": [
      "                                                                                \r"
     ]
    },
    {
     "name": "stdout",
     "output_type": "stream",
     "text": [
      "+----+------------------+-------------------+\n",
      "|  Id|              Name|             Branch|\n",
      "+----+------------------+-------------------+\n",
      "|1416|       Tuncay Avcı| Genel Koordinasyon|\n",
      "|1417|    İsmail İçtüzer| Genel Koordinasyon|\n",
      "|1508|    Mustafa Bankur|             Üretim|\n",
      "|1522|       Meliha Kaya|          Pazarlama|\n",
      "|1525|Saadet Yılmaz Kaya|Teknik Koordinasyon|\n",
      "+----+------------------+-------------------+\n",
      "\n"
     ]
    }
   ],
   "source": [
    "customers_new.show()"
   ]
  },
  {
   "cell_type": "markdown",
   "metadata": {},
   "source": [
    "## Upsert new customers into delta table"
   ]
  },
  {
   "cell_type": "code",
   "execution_count": 21,
   "metadata": {},
   "outputs": [
    {
     "name": "stderr",
     "output_type": "stream",
     "text": [
      "                                                                                \r"
     ]
    }
   ],
   "source": [
    "customers_delta.alias(\"cust\") \\\n",
    ".merge(customers_new.alias(\"cust_new\"), \"cust.Id = cust_new.Id\") \\\n",
    ".whenMatchedUpdateAll() \\\n",
    ".whenNotMatchedInsertAll() \\\n",
    ".execute()"
   ]
  },
  {
   "cell_type": "code",
   "execution_count": 22,
   "metadata": {},
   "outputs": [
    {
     "name": "stderr",
     "output_type": "stream",
     "text": [
      "                                                                                \r"
     ]
    },
    {
     "name": "stdout",
     "output_type": "stream",
     "text": [
      "+----+------------------+-------------------+\n",
      "|  Id|              Name|             Branch|\n",
      "+----+------------------+-------------------+\n",
      "|1416|       Tuncay Avcı| Genel Koordinasyon|\n",
      "|1417|    İsmail İçtüzer| Genel Koordinasyon|\n",
      "|1506|     Mustafa Aslan|   Halkla İlişkiler|\n",
      "|1508|    Mustafa Bankur|             Üretim|\n",
      "|1522|       Meliha Kaya|          Pazarlama|\n",
      "|1525|Saadet Yılmaz Kaya|Teknik Koordinasyon|\n",
      "|1527|      Buket Durmuş|          Pazarlama|\n",
      "+----+------------------+-------------------+\n",
      "\n"
     ]
    }
   ],
   "source": [
    "customers_delta.toDF().orderBy(\"Id\").show()"
   ]
  },
  {
   "cell_type": "code",
   "execution_count": 23,
   "metadata": {},
   "outputs": [
    {
     "name": "stdout",
     "output_type": "stream",
     "text": [
      "/usr/bin/sh: 1: hdfs: not found\n"
     ]
    }
   ],
   "source": [
    "! hdfs dfs -ls /opt/examples/datasets/delta/ik_delta/_delta_log"
   ]
  },
  {
   "cell_type": "code",
   "execution_count": 24,
   "metadata": {},
   "outputs": [
    {
     "name": "stdout",
     "output_type": "stream",
     "text": [
      "{\"commitInfo\":{\"timestamp\":1730780686663,\"operation\":\"MERGE\",\"operationParameters\":{\"predicate\":\"[\\\"(Id#313L = Id#1228L)\\\"]\",\"matchedPredicates\":\"[{\\\"actionType\\\":\\\"update\\\"}]\",\"notMatchedPredicates\":\"[{\\\"actionType\\\":\\\"insert\\\"}]\",\"notMatchedBySourcePredicates\":\"[]\"},\"readVersion\":0,\"isolationLevel\":\"Serializable\",\"isBlindAppend\":false,\"operationMetrics\":{\"numTargetRowsCopied\":\"2\",\"numTargetRowsDeleted\":\"0\",\"numTargetFilesAdded\":\"1\",\"numTargetBytesAdded\":\"1288\",\"numTargetBytesRemoved\":\"2238\",\"numTargetDeletionVectorsAdded\":\"0\",\"numTargetRowsMatchedUpdated\":\"3\",\"executionTimeMs\":\"5820\",\"numTargetRowsInserted\":\"2\",\"numTargetRowsMatchedDeleted\":\"0\",\"numTargetDeletionVectorsUpdated\":\"0\",\"scanTimeMs\":\"3636\",\"numTargetRowsUpdated\":\"3\",\"numOutputRows\":\"7\",\"numTargetDeletionVectorsRemoved\":\"0\",\"numTargetRowsNotMatchedBySourceUpdated\":\"0\",\"numTargetChangeFilesAdded\":\"0\",\"numSourceRows\":\"5\",\"numTargetFilesRemoved\":\"2\",\"numTargetRowsNotMatchedBySourceDeleted\":\"0\",\"rewriteTimeMs\":\"1357\"},\"engineInfo\":\"Apache-Spark/3.5.3 Delta-Lake/3.2.0\",\"txnId\":\"54b7cc11-8325-4321-ab18-dbce6bb41191\"}}\n",
      "{\"add\":{\"path\":\"part-00000-f59d2a62-337c-4763-a069-1e4f61b0f2d2-c000.snappy.parquet\",\"partitionValues\":{},\"size\":1288,\"modificationTime\":1730780686578,\"dataChange\":true,\"stats\":\"{\\\"numRecords\\\":7,\\\"minValues\\\":{\\\"Id\\\":1416,\\\"Name\\\":\\\"Buket Durmuş\\\",\\\"Branch\\\":\\\"Genel Koordinasyon\\\"},\\\"maxValues\\\":{\\\"Id\\\":1527,\\\"Name\\\":\\\"İsmail İçtüzer\\\",\\\"Branch\\\":\\\"Üretim\\\"},\\\"nullCount\\\":{\\\"Id\\\":0,\\\"Name\\\":0,\\\"Branch\\\":0}}\"}}\n",
      "{\"remove\":{\"path\":\"part-00000-46a67d72-745a-423b-b97d-0694c16cd15f-c000.snappy.parquet\",\"deletionTimestamp\":1730780686608,\"dataChange\":true,\"extendedFileMetadata\":true,\"partitionValues\":{},\"size\":1099,\"stats\":\"{\\\"numRecords\\\":2}\"}}\n",
      "{\"remove\":{\"path\":\"part-00001-41180f96-00c6-40e1-b1dc-8b6bf1a80b8e-c000.snappy.parquet\",\"deletionTimestamp\":1730780686609,\"dataChange\":true,\"extendedFileMetadata\":true,\"partitionValues\":{},\"size\":1139,\"stats\":\"{\\\"numRecords\\\":3}\"}}\n"
     ]
    }
   ],
   "source": [
    "! cat /opt/examples/datasets/delta/ik_delta/_delta_log/00000000000000000001.json"
   ]
  },
  {
   "cell_type": "markdown",
   "metadata": {},
   "source": [
    "# Upsert with Multiple Conditions"
   ]
  },
  {
   "cell_type": "code",
   "execution_count": 25,
   "metadata": {},
   "outputs": [],
   "source": [
    "customers_new2 = spark.createDataFrame([(1520, \"Mustafa Gökçe\", \"Genel Koordinasyon\"), \n",
    "                                       (1522, \"Meliha Kaya\", \"Satış\"),\n",
    "                                        (1525, \"Saadet Yılmaz\", \"Genel Koordinasyon\"),\n",
    "                                        (1416, \"Tuncay Döner\", \"Genel Koordinasyon\")],\n",
    "                                   [\"Id\",\"Name\",\"Branch\"])"
   ]
  },
  {
   "cell_type": "code",
   "execution_count": 26,
   "metadata": {},
   "outputs": [
    {
     "name": "stderr",
     "output_type": "stream",
     "text": [
      "                                                                                \r"
     ]
    }
   ],
   "source": [
    "customers_delta.alias(\"cust\") \\\n",
    ".merge(customers_new2.alias(\"cust_new2\"), (\"cust.Id = cust_new2.Id AND cust_new2.Branch = 'Genel Koordinasyon'\") ) \\\n",
    ".whenMatchedUpdateAll() \\\n",
    ".whenNotMatchedInsertAll() \\\n",
    ".execute()"
   ]
  },
  {
   "cell_type": "code",
   "execution_count": 27,
   "metadata": {},
   "outputs": [
    {
     "name": "stderr",
     "output_type": "stream",
     "text": [
      "[Stage 61:=================================================>      (44 + 2) / 50]\r"
     ]
    },
    {
     "name": "stdout",
     "output_type": "stream",
     "text": [
      "+----+--------------+------------------+\n",
      "|  Id|          Name|            Branch|\n",
      "+----+--------------+------------------+\n",
      "|1416|  Tuncay Döner|Genel Koordinasyon|\n",
      "|1417|İsmail İçtüzer|Genel Koordinasyon|\n",
      "|1506| Mustafa Aslan|  Halkla İlişkiler|\n",
      "|1508|Mustafa Bankur|            Üretim|\n",
      "|1520| Mustafa Gökçe|Genel Koordinasyon|\n",
      "|1522|   Meliha Kaya|             Satış|\n",
      "|1522|   Meliha Kaya|         Pazarlama|\n",
      "|1525| Saadet Yılmaz|Genel Koordinasyon|\n",
      "|1527|  Buket Durmuş|         Pazarlama|\n",
      "+----+--------------+------------------+\n",
      "\n"
     ]
    },
    {
     "name": "stderr",
     "output_type": "stream",
     "text": [
      "                                                                                \r"
     ]
    }
   ],
   "source": [
    "customers_delta.toDF().show()"
   ]
  },
  {
   "cell_type": "code",
   "execution_count": 29,
   "metadata": {},
   "outputs": [
    {
     "name": "stdout",
     "output_type": "stream",
     "text": [
      "total 12\n",
      "-rw-r--r--. 1 root root 1717 Nov  5 04:23 00000000000000000000.json\n",
      "-rw-r--r--. 1 root root 1977 Nov  5 04:24 00000000000000000001.json\n",
      "-rw-r--r--. 1 root root 1786 Nov  5 04:25 00000000000000000002.json\n",
      "drwxr-xr-x. 2 root root    6 Nov  5 04:23 _commits\n"
     ]
    }
   ],
   "source": [
    "! ls -l /opt/examples/datasets/delta/ik_delta/_delta_log"
   ]
  },
  {
   "cell_type": "markdown",
   "metadata": {},
   "source": [
    "# Update"
   ]
  },
  {
   "cell_type": "code",
   "execution_count": 30,
   "metadata": {},
   "outputs": [
    {
     "name": "stderr",
     "output_type": "stream",
     "text": [
      "                                                                                \r"
     ]
    }
   ],
   "source": [
    "customers_delta.update(\n",
    "condition=F.expr(\"Id == 1527\"),\n",
    "    set={\"Name\": F.expr(\"'Buket Durmuş Çetinkaya'\"), \"Branch\": F.expr(\"'Teknoloji'\")}\n",
    ")"
   ]
  },
  {
   "cell_type": "code",
   "execution_count": 31,
   "metadata": {},
   "outputs": [
    {
     "name": "stderr",
     "output_type": "stream",
     "text": [
      "                                                                                \r"
     ]
    },
    {
     "name": "stdout",
     "output_type": "stream",
     "text": [
      "+----+----------------------+------------------+\n",
      "|Id  |Name                  |Branch            |\n",
      "+----+----------------------+------------------+\n",
      "|1416|Tuncay Döner          |Genel Koordinasyon|\n",
      "|1417|İsmail İçtüzer        |Genel Koordinasyon|\n",
      "|1506|Mustafa Aslan         |Halkla İlişkiler  |\n",
      "|1508|Mustafa Bankur        |Üretim            |\n",
      "|1520|Mustafa Gökçe         |Genel Koordinasyon|\n",
      "|1522|Meliha Kaya           |Satış             |\n",
      "|1522|Meliha Kaya           |Pazarlama         |\n",
      "|1525|Saadet Yılmaz         |Genel Koordinasyon|\n",
      "|1527|Buket Durmuş Çetinkaya|Teknoloji         |\n",
      "+----+----------------------+------------------+\n",
      "\n"
     ]
    }
   ],
   "source": [
    "customers_delta.toDF().show(truncate=False)"
   ]
  },
  {
   "cell_type": "code",
   "execution_count": 32,
   "metadata": {},
   "outputs": [
    {
     "name": "stdout",
     "output_type": "stream",
     "text": [
      "total 16\n",
      "-rw-r--r--. 1 root root 1717 Nov  5 04:23 00000000000000000000.json\n",
      "-rw-r--r--. 1 root root 1977 Nov  5 04:24 00000000000000000001.json\n",
      "-rw-r--r--. 1 root root 1786 Nov  5 04:25 00000000000000000002.json\n",
      "-rw-r--r--. 1 root root 1267 Nov  5 04:25 00000000000000000003.json\n",
      "drwxr-xr-x. 2 root root    6 Nov  5 04:23 _commits\n"
     ]
    }
   ],
   "source": [
    "! ls -l /opt/examples/datasets/delta/ik_delta/_delta_log"
   ]
  },
  {
   "cell_type": "markdown",
   "metadata": {},
   "source": [
    "# Delete"
   ]
  },
  {
   "cell_type": "code",
   "execution_count": 33,
   "metadata": {},
   "outputs": [
    {
     "name": "stderr",
     "output_type": "stream",
     "text": [
      "                                                                                \r"
     ]
    }
   ],
   "source": [
    "customers_delta.delete(F.col(\"Id\") == 1506)"
   ]
  },
  {
   "cell_type": "code",
   "execution_count": 34,
   "metadata": {},
   "outputs": [
    {
     "name": "stderr",
     "output_type": "stream",
     "text": [
      "[Stage 93:====================================================>   (47 + 2) / 50]\r"
     ]
    },
    {
     "name": "stdout",
     "output_type": "stream",
     "text": [
      "+----+----------------------+------------------+\n",
      "|Id  |Name                  |Branch            |\n",
      "+----+----------------------+------------------+\n",
      "|1416|Tuncay Döner          |Genel Koordinasyon|\n",
      "|1417|İsmail İçtüzer        |Genel Koordinasyon|\n",
      "|1508|Mustafa Bankur        |Üretim            |\n",
      "|1520|Mustafa Gökçe         |Genel Koordinasyon|\n",
      "|1522|Meliha Kaya           |Satış             |\n",
      "|1522|Meliha Kaya           |Pazarlama         |\n",
      "|1525|Saadet Yılmaz         |Genel Koordinasyon|\n",
      "|1527|Buket Durmuş Çetinkaya|Teknoloji         |\n",
      "+----+----------------------+------------------+\n",
      "\n"
     ]
    },
    {
     "name": "stderr",
     "output_type": "stream",
     "text": [
      "                                                                                \r"
     ]
    }
   ],
   "source": [
    "customers_delta.toDF().show(truncate=False)"
   ]
  },
  {
   "cell_type": "code",
   "execution_count": 35,
   "metadata": {},
   "outputs": [
    {
     "name": "stdout",
     "output_type": "stream",
     "text": [
      "total 20\n",
      "-rw-r--r--. 1 root root 1717 Nov  5 04:23 00000000000000000000.json\n",
      "-rw-r--r--. 1 root root 1977 Nov  5 04:24 00000000000000000001.json\n",
      "-rw-r--r--. 1 root root 1786 Nov  5 04:25 00000000000000000002.json\n",
      "-rw-r--r--. 1 root root 1267 Nov  5 04:25 00000000000000000003.json\n",
      "-rw-r--r--. 1 root root 1267 Nov  5 04:26 00000000000000000004.json\n",
      "drwxr-xr-x. 2 root root    6 Nov  5 04:23 _commits\n"
     ]
    }
   ],
   "source": [
    "! ls -l /opt/examples/datasets/delta/ik_delta/_delta_log"
   ]
  },
  {
   "cell_type": "code",
   "execution_count": null,
   "metadata": {},
   "outputs": [],
   "source": [
    "spark.stop()"
   ]
  },
  {
   "cell_type": "code",
   "execution_count": null,
   "metadata": {},
   "outputs": [],
   "source": []
  }
 ],
 "metadata": {
  "kernelspec": {
   "display_name": "Python 3 (ipykernel)",
   "language": "python",
   "name": "python3"
  },
  "language_info": {
   "codemirror_mode": {
    "name": "ipython",
    "version": 3
   },
   "file_extension": ".py",
   "mimetype": "text/x-python",
   "name": "python",
   "nbconvert_exporter": "python",
   "pygments_lexer": "ipython3",
   "version": "3.12.7"
  }
 },
 "nbformat": 4,
 "nbformat_minor": 4
}
